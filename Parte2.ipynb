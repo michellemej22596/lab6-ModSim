{
 "cells": [
  {
   "cell_type": "markdown",
   "id": "2b9f01a0",
   "metadata": {},
   "source": [
    "\n",
    "# CC3039 — Modelación y Simulación  \n",
    "**Laboratorio 6 — Parte 2: Análisis de Estabilidad (Modelo SIR con dinámica vital)**\n",
    "## Michelle Mejía 22596 Silvia Illescas 22376"
   ]
  },
  {
   "cell_type": "code",
   "execution_count": 1,
   "id": "62d3928f",
   "metadata": {},
   "outputs": [
    {
     "data": {
      "text/latex": [
       "$\\displaystyle \\left[\\begin{matrix}- I \\beta - \\mu & - S \\beta\\\\I \\beta & S \\beta - \\gamma - \\mu\\end{matrix}\\right]$"
      ],
      "text/plain": [
       "⎡-I⋅β - μ     -S⋅β    ⎤\n",
       "⎢                     ⎥\n",
       "⎣  I⋅β     S⋅β - γ - μ⎦"
      ]
     },
     "execution_count": 1,
     "metadata": {},
     "output_type": "execute_result"
    }
   ],
   "source": [
    "\n",
    "# === Imports ===\n",
    "import sympy as sp\n",
    "import numpy as np\n",
    "\n",
    "# Mostrar matrices completas\n",
    "sp.init_printing(use_unicode=True)\n",
    "\n",
    "# === Variables simbólicas ===\n",
    "S, I = sp.symbols('S I', real=True)\n",
    "beta, gamma, mu, N = sp.symbols('beta gamma mu N', positive=True, real=True)\n",
    "\n",
    "# === Ecuaciones del modelo SIR con dinámica vital ===\n",
    "# dS/dt = mu*N - beta*S*I - mu*S\n",
    "# dI/dt = beta*S*I - (gamma + mu)*I\n",
    "dS_dt = mu*N - beta*S*I - mu*S\n",
    "dI_dt = beta*S*I - (gamma + mu)*I\n",
    "\n",
    "f = sp.Matrix([dS_dt, dI_dt])\n",
    "vars_vec = sp.Matrix([S, I])\n",
    "\n",
    "# === Jacobiano simbólico ===\n",
    "J = f.jacobian(vars_vec)\n",
    "J\n"
   ]
  },
  {
   "cell_type": "code",
   "execution_count": 2,
   "id": "03b87184",
   "metadata": {},
   "outputs": [
    {
     "name": "stdout",
     "output_type": "stream",
     "text": [
      "Jacobiano simbólico J(S, I):\n",
      "⎡-I⋅β - μ     -S⋅β    ⎤\n",
      "⎢                     ⎥\n",
      "⎣  I⋅β     S⋅β - γ - μ⎦\n"
     ]
    }
   ],
   "source": [
    "\n",
    "print(\"Jacobiano simbólico J(S, I):\")\n",
    "sp.pprint(J)\n"
   ]
  },
  {
   "cell_type": "markdown",
   "id": "8e53f0bc",
   "metadata": {},
   "source": [
    "\n",
    "## Autovalores simbólicos en el ELE\n",
    "\n",
    "El **ELE** es \\((S^*, I^*) = (N, 0)\\). Sustituimos \\(S=N\\) y \\(I=0\\) en el Jacobiano y calculamos autovalores simbólicos.\n"
   ]
  },
  {
   "cell_type": "code",
   "execution_count": 3,
   "id": "a2775684",
   "metadata": {},
   "outputs": [
    {
     "name": "stdout",
     "output_type": "stream",
     "text": [
      "Jacobiano en ELE (S=N, I=0):\n",
      "⎡-μ     -N⋅β    ⎤\n",
      "⎢               ⎥\n",
      "⎣0   N⋅β - γ - μ⎦\n",
      "\n",
      "Autovalores simbólicos del ELE:\n",
      "  λ = N*beta - gamma - mu  (multiplicidad 1)\n",
      "  λ = -mu  (multiplicidad 1)\n",
      "\n",
      "R0 (simbólico) = N*beta/(gamma + mu)\n",
      "λ2 (simbólico)  = N*beta - gamma - mu\n",
      "λ2 == (gamma + mu)*(R0 - 1) ? -> True\n"
     ]
    }
   ],
   "source": [
    "\n",
    "J_ELE = J.subs({S: N, I: 0})\n",
    "print(\"Jacobiano en ELE (S=N, I=0):\")\n",
    "sp.pprint(J_ELE)\n",
    "\n",
    "# Autovalores simbólicos en el ELE\n",
    "eigs_ELE = J_ELE.eigenvals()\n",
    "print(\"\\nAutovalores simbólicos del ELE:\")\n",
    "for ev, mult in eigs_ELE.items():\n",
    "    print(f\"  λ = {sp.simplify(ev)}  (multiplicidad {mult})\")\n",
    "\n",
    "# Demostración simbólica de que el segundo autovalor equivale a (gamma + mu)*(R0 - 1),\n",
    "# con R0 = beta*N/(gamma + mu)\n",
    "R0 = sp.simplify(beta*N/(gamma + mu))\n",
    "lambda2 = sp.simplify(beta*N - (gamma + mu))\n",
    "print(\"\\nR0 (simbólico) =\", R0)\n",
    "print(\"λ2 (simbólico)  =\", lambda2)\n",
    "print(\"λ2 == (gamma + mu)*(R0 - 1) ? ->\", sp.simplify(lambda2 - (gamma + mu)*(R0 - 1)) == 0)\n"
   ]
  },
  {
   "cell_type": "markdown",
   "id": "9db03abc",
   "metadata": {},
   "source": [
    "\n",
    "## Parámetros numéricos (mismos que en la Parte 1)\n",
    "\n",
    "Se utilizan los mismos parámetros indicados en la guía (R₀ > 1):\n",
    "- \\(N = 1000\\)  \n",
    "- \\(\\beta = 0.5/N\\)  (normalizada por \\(N\\))  \n",
    "- \\(\\gamma = 0.1\\)  \n",
    "- \\(\\mu = 0.02\\)  \n",
    "\n",
    "Con estos valores, \\(R_0 = \\frac{\\beta N}{\\gamma + \\mu} > 1\\).\n"
   ]
  },
  {
   "cell_type": "code",
   "execution_count": 5,
   "id": "f4b2c29a",
   "metadata": {},
   "outputs": [
    {
     "name": "stdout",
     "output_type": "stream",
     "text": [
      "R0 = 4.166667\n",
      "S* = 240.000000, I* = 126.666667\n",
      "\n",
      "Jacobiano numérico en el equilibrio endémico:\n",
      "⎡-0.0833333333333333          -0.12        ⎤\n",
      "⎢                                          ⎥\n",
      "⎣0.0633333333333333   -1.38777878078145e-17⎦\n",
      "\n",
      "Autovalores numéricos en el equilibrio endémico:\n",
      "(-0.04166666666666668+0.07657603338440096j)\n",
      "(-0.04166666666666668-0.07657603338440096j)\n"
     ]
    }
   ],
   "source": [
    "# === Parámetros numéricos (todo float) ===\n",
    "N_val = 1000.0\n",
    "beta_val = 0.5 / N_val   # normalizada por N\n",
    "gamma_val = 0.1\n",
    "mu_val = 0.02\n",
    "\n",
    "# Chequeo R0\n",
    "R0_val = (beta_val * N_val) / (gamma_val + mu_val)\n",
    "print(f\"R0 = {R0_val:.6f}\")\n",
    "\n",
    "# === Equilibrio endémico (fórmulas en números puros) ===\n",
    "# S* = (gamma + mu) / beta\n",
    "# I* = mu * (N - S*) / (beta * S*)\n",
    "S_end = (gamma_val + mu_val) / beta_val\n",
    "I_end = mu_val * (N_val - S_end) / (beta_val * S_end)\n",
    "\n",
    "print(f\"S* = {S_end:.6f}, I* = {I_end:.6f}\")\n",
    "\n",
    "#     Sustituimos parámetros y (S*, I*) y luego convertimos a numpy\n",
    "import sympy as sp\n",
    "import numpy as np\n",
    "\n",
    "S, I = sp.symbols('S I', real=True)\n",
    "beta, gamma, mu, N = sp.symbols('beta gamma mu N', positive=True, real=True)\n",
    "dS_dt = mu*N - beta*S*I - mu*S\n",
    "dI_dt = beta*S*I - (gamma + mu)*I\n",
    "J = sp.Matrix([dS_dt, dI_dt]).jacobian(sp.Matrix([S, I]))\n",
    "\n",
    "# Dict de parámetros numéricos (todos float)\n",
    "params_num = {N: N_val, beta: beta_val, gamma: gamma_val, mu: mu_val}\n",
    "\n",
    "# Jacobiano numérico en el endémico\n",
    "J_num_end_sym = J.subs(params_num).subs({S: S_end, I: I_end}).evalf()\n",
    "print(\"\\nJacobiano numérico en el equilibrio endémico:\")\n",
    "sp.pprint(J_num_end_sym, wrap_line=False)\n",
    "\n",
    "# A numpy y autovalores numéricos\n",
    "J_np = np.array(J_num_end_sym.tolist(), dtype=float)\n",
    "eigvals_end = np.linalg.eigvals(J_np)\n",
    "print(\"\\nAutovalores numéricos en el equilibrio endémico:\")\n",
    "for ev in eigvals_end:\n",
    "    print(ev)\n"
   ]
  },
  {
   "cell_type": "markdown",
   "id": "f42d9461",
   "metadata": {},
   "source": [
    "\n",
    "## Jacobiano numérico en el Equilibrio Endémico y sus autovalores\n"
   ]
  },
  {
   "cell_type": "code",
   "execution_count": 6,
   "id": "0b0afc08",
   "metadata": {},
   "outputs": [
    {
     "name": "stdout",
     "output_type": "stream",
     "text": [
      "Jacobiano numérico en el equilibrio endémico:\n",
      "⎡-0.0833333     -0.12    ⎤\n",
      "⎢                        ⎥\n",
      "⎣0.0633333   -1.38778e-17⎦\n",
      "\n",
      "Autovalores numéricos del Jacobiano en el equilibrio endémico:\n",
      "(-0.04166666666666668+0.07657603338440096j)\n",
      "(-0.04166666666666668-0.07657603338440096j)\n"
     ]
    }
   ],
   "source": [
    "\n",
    "# Jacobiano simbólico con parámetros numéricos + (S_end, I_end)\n",
    "J_num_end = J.subs(params_num).subs({S: S_end, I: I_end})\n",
    "\n",
    "print(\"Jacobiano numérico en el equilibrio endémico:\")\n",
    "sp.pprint(sp.N(J_num_end, 6))\n",
    "\n",
    "# Convertir a numpy y calcular autovalores numéricos\n",
    "J_np = np.array(J_num_end.tolist(), dtype=np.float64)\n",
    "eigvals_end = np.linalg.eigvals(J_np)\n",
    "\n",
    "print(\"\\nAutovalores numéricos del Jacobiano en el equilibrio endémico:\")\n",
    "for ev in eigvals_end:\n",
    "    print(ev)\n"
   ]
  },
  {
   "cell_type": "markdown",
   "id": "0cf6136c",
   "metadata": {},
   "source": [
    "\n",
    "## Parte 2 — Preguntas de Análisis \n",
    "\n",
    "¿Qué representa ∂(dI/dt)/∂S?\n",
    "Es la sensibilidad de la tasa de cambio de infectados respecto al número de susceptibles. En este modelo es βI: si I>0, al aumentar 𝑆 aumenta linealmente la fuerza de infección; si I=0, la sensibilidad es nula. \n",
    "\n",
    "ELE inestable cuando 𝑅0>1 y política “esperar y ver”\n",
    "Si aparece un caso (perturbación pequeña), la infección crece (autovalor positivo) en lugar de disiparse. “Esperar y ver” es arriesgado porque permite que el brote despegue. \n",
    "\n",
    "Estabilidad del equilibrio endémico\n",
    "“Estable” significa que perturbaciones se atenúan y el sistema regresa al nivel endémico. Si surge una variante y suben los casos, el sistema vuelve al equilibrio (posiblemente con oscilaciones amortiguadas) si los parámetros permanecen. \n",
    "\n",
    "\n",
    "Equilibrio estable en un MBA (estocástico)\n",
    "No se ve como un punto fijo, sino como una nube de estados alrededor del equilibrio: el sistema orbita con ruido alrededor del atractor en el plano (S,I). \n",
    "\n",
    "\n",
    "Segundo autovalor del ELE\n",
    "En el ELE: 𝜆2 =βN−(γ+μ). Con 𝑅0=𝛽𝑁/ 𝛾+𝜇\n",
    "\n",
    "𝜆2=(𝛾+𝜇)(𝑅0−1).\n",
    "\n",
    "Así, si 𝑅0>1⇒𝜆2>0, el ELE es inestable, como predice la teoría. \n",
    "\n",
    "\n",
    "Autovalores en el equilibrio endémico\n",
    "Con los parámetros dados, los autovalores numéricos (que imprime el código) tienen parte real negativa, por lo que el equilibrio endémico es estable (atractor). \n",
    "\n",
    "\n",
    "Consistencia con la Parte 1\n",
    "Con 𝑅0>1, las trayectorias no se quedan en el ELE: terminan en el endémico. Esto es coherente con el análisis: ELE inestable y endémico estable. \n",
    "\n",
    "Efecto de disminuir μ (↑ esperanza de vida) en 𝜆2 del ELE\n",
    "\n",
    "𝜆2=(𝛾+𝜇)(𝑅0−1)=𝛽𝑁−(𝛾+𝜇). Si baja μ (manteniendo β,γ,N), λ2 disminuye ⇒ el crecimiento inicial del brote es más lento (sigue siendo positivo si 𝑅0>1, pero menor).\n"
   ]
  },
  {
   "cell_type": "markdown",
   "id": "2110bbc0",
   "metadata": {},
   "source": [
    "Uso de Gen AI \n",
    "\n",
    "Último prompt utilizado:\n",
    "\n",
    "\"Explícame de forma clara la Parte 2 (Jacobiano, autovalores en el ELE y en el equilibrio endémico) y dame el análisis/interpretación de los resultados; incluye definiciones breves de conceptos clave (ELE, estabilidad, 𝑅0) y conéctalo con lo observado en las trayectorias.\"\n",
    "\n",
    "Por qué funcionó: El prompt pidió explícitamente qué conceptos definir (ELE, estabilidad, 𝑅0), qué cálculos presentar (Jacobiano y autovalores en ambos equilibrios) y qué análisis redactar (interpretación y vínculo con la Parte 1). Esa precisión reduce ambigüedad, garantiza reproducibilidad y facilita que las salidas (matrices, autovalores, conclusiones) queden claras y verificables."
   ]
  }
 ],
 "metadata": {
  "kernelspec": {
   "display_name": "Python 3",
   "language": "python",
   "name": "python3"
  },
  "language_info": {
   "codemirror_mode": {
    "name": "ipython",
    "version": 3
   },
   "file_extension": ".py",
   "mimetype": "text/x-python",
   "name": "python",
   "nbconvert_exporter": "python",
   "pygments_lexer": "ipython3",
   "version": "3.9.4"
  }
 },
 "nbformat": 4,
 "nbformat_minor": 5
}
